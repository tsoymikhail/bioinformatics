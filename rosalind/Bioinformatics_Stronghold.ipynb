{
  "nbformat": 4,
  "nbformat_minor": 0,
  "metadata": {
    "colab": {
      "name": "Bioinformatics_Stronghold.ipynb",
      "provenance": [],
      "collapsed_sections": [
        "bT05Oew00gww",
        "cBvaF9Vi6tlA",
        "yQffflgF9TGt",
        "Fz4Mm8LfQAMJ",
        "SoHMdWe5So6z",
        "ZkdpSnksTdEy",
        "RVKgK5MrUEQE",
        "CtIgKuqxbtfn",
        "dTiBvGz4hcyT",
        "Ei3IfzR5JYMF",
        "OGQHY9BaK2Ql",
        "defFtHU0TrXH",
        "gqDpaGgGnhAS",
        "U4i8a6aOnt1C",
        "6vVKUzvGBMwe"
      ],
      "authorship_tag": "ABX9TyOk6Dt8V21RPtiD7dUW3uCO",
      "include_colab_link": true
    },
    "kernelspec": {
      "name": "python3",
      "display_name": "Python 3"
    }
  },
  "cells": [
    {
      "cell_type": "markdown",
      "metadata": {
        "id": "view-in-github",
        "colab_type": "text"
      },
      "source": [
        "<a href=\"https://colab.research.google.com/github/tsoymikhail/rosalind/blob/main/Bioinformatics_Stronghold.ipynb\" target=\"_parent\"><img src=\"https://colab.research.google.com/assets/colab-badge.svg\" alt=\"Open In Colab\"/></a>"
      ]
    },
    {
      "cell_type": "markdown",
      "metadata": {
        "id": "bT05Oew00gww"
      },
      "source": [
        "#Counting DNA nucleotides"
      ]
    },
    {
      "cell_type": "code",
      "metadata": {
        "colab": {
          "base_uri": "https://localhost:8080/"
        },
        "id": "qdXBDeis0omu",
        "outputId": "4f5238b0-9ef7-4367-af47-abced3eb2446"
      },
      "source": [
        "file = open('./rosalind_dna.txt', 'r')\r\n",
        "dna = file.readline()\r\n",
        "file.close()\r\n",
        "\r\n",
        "dna = dna.replace(\"\\n\", \"\")\r\n",
        "\r\n",
        "freq = {'A': 0, 'C': 0, 'G': 0, 'T': 0}\r\n",
        "for i in dna:\r\n",
        "    freq[i] = freq[i] + 1\r\n",
        "\r\n",
        "print (freq['A'], freq['C'], freq['G'], freq['T'])"
      ],
      "execution_count": 181,
      "outputs": [
        {
          "output_type": "stream",
          "text": [
            "211 202 222 201\n"
          ],
          "name": "stdout"
        }
      ]
    },
    {
      "cell_type": "code",
      "metadata": {
        "colab": {
          "base_uri": "https://localhost:8080/",
          "height": 137
        },
        "id": "ZZeysSCc1Qo-",
        "outputId": "2a8f1a3d-ee75-45de-c495-ce9d4ded4819"
      },
      "source": [
        "dna"
      ],
      "execution_count": 182,
      "outputs": [
        {
          "output_type": "execute_result",
          "data": {
            "application/vnd.google.colaboratory.intrinsic+json": {
              "type": "string"
            },
            "text/plain": [
              "'CTGTGCCAGGAATAGCTTTCTCTAGCACACACAGAATTGTTACCTGCTGGCTAGAATTGCAATCAGTCATTGTGGTGGAGTGTATAGTGGTGTTCGATAACCCCATCGGTTGGCCCGCTCCGTGGTGTGGAGGCAACTCTAACCCACTTGACTGTTCAGCCCGGCCTTAACTACTATGCTTCGCGCTCTGCCCCTACTCAGAGCTTGCGGAAATGGTGTCCATGGACGAACTGTTTTCGTATAACCTAACACGGCGCCGCTCTCGTTACTTGGGAAGAACTCAACGAAAGCAAAGCAACTCAGCTTGGCGAGCTACTGGAATCGCGTAGCCCTGCTAAGCTTATTCAGGAGACCCAGCGGATAAGCTTTGATGGATCCGTCAACGGCGTACCACTAGAAGCCTGTTTGGGAGTAGTTGATGCAATCGCTACGGGTAGCACGTTTACCACAAACCGTATGTCAGGATTCTGTGAGGCTATTGGTCGTTAAATAGTACATTAACATAGCAGCAGGGTGCTTCTTAAGGGTCTTGGGGCCACAAGAAGATATGCAACCGCGTGCTGGTGATTCAGAGGTTTAAGTATAGGAACATTCACGCCGGATCGGCGAACGCGAACGATACCCCCCGTGGGAGACAATTCCCACCCGGGTTCTGAACGACAGAATGAGAGCACAATGTTCCAAAGCACCTTGCCCAGGCATCGAAGTACTGTTTGGGTCGTAGAGGGGGAGGATCATCGGTTATAAGTATACGATTTCGGCAATCTTCTCACCACGTCGGAGAGAGCTGAAGCAGCCCCGATTCACCGTAGGTAATGATAGACATCTGTGTAGAA'"
            ]
          },
          "metadata": {
            "tags": []
          },
          "execution_count": 182
        }
      ]
    },
    {
      "cell_type": "markdown",
      "metadata": {
        "id": "cBvaF9Vi6tlA"
      },
      "source": [
        "#Transcribing DNA into RNA"
      ]
    },
    {
      "cell_type": "code",
      "metadata": {
        "id": "sbzSy0XL6vfY"
      },
      "source": [
        "file = open('./rosalind_rna.txt', 'r')\r\n",
        "dna_to_transcribing = file.readline()\r\n",
        "file.close()\r\n",
        "\r\n",
        "dna_to_transcribing = dna_to_transcribing.replace(\"\\n\", \"\")\r\n",
        "\r\n",
        "rna = dna_to_transcribing.replace('T', 'U')"
      ],
      "execution_count": 184,
      "outputs": []
    },
    {
      "cell_type": "code",
      "metadata": {
        "colab": {
          "base_uri": "https://localhost:8080/"
        },
        "id": "nwhirVOB8OQr",
        "outputId": "27b607d2-adde-4a68-f3da-af59b4c40e0a"
      },
      "source": [
        "dna_to_transcribing, rna"
      ],
      "execution_count": 185,
      "outputs": [
        {
          "output_type": "execute_result",
          "data": {
            "text/plain": [
              "('TTGTTCGTTGTTGCGCGAGACTCGGTTATTGCCTCAGCGTGTGCATGTTCTAGCCCCCATAAAGACCTCACGTGTAAACCGTCGTGCTAATTAGCGGGAAGGTTCATAGCCAAGCAGTTTGTACCGCATCGAGGCTGCAGTGGACCGTGATAATTACTTTTTACTGTCGTTCAAATTTCTTGAGGATAAGAACCTGGCGGGTCATAGATTGTTTAGATCTTTACTGTGGAGATCCCTACTGTTACGACCAGATGCCTCTCCTATGTACACGCCATAAGGAAGCGGAGGTCGGAACACTGAGTCCGTACAACGATCGCGTTCGCTGTGATACTTAACATATCGTCACCTGGCAGAACCTAAATAGGGGGTCTGTTGTCTAGCGTACGATCCGATGGTGTAGATGTCATCAGTGACAAGGAAGACAACTTCAGATGCGTAATGCTACATTTGTTTGCTTCCTTGAGCCGATCTTCGGTCAAGCTGCATGGGACATCCCCTGCATTGGTAACGTCAACTTTGCGGTATAAAGACCCTACGTTGATACGTGTGGTTAGTTGGAGGTAAAGCATCATAAGTCAGCCTTTGCTTCCCTTTTATGTGCATGAGGGAGCTTAAGGAGCTGTCCCTCGGGTTAGAGTGAGACCAGCGGCGCGTTGATAAATCCATCCTCCCCGCCTTGAGAACATGGTTAATTTCAAAAGCCACTTTGACCCTTCGGGTATATAAGGAAGAACAGCATGCAACTTGTGCTATGAGGCGTACAGTGTTCATATGCCGTCCCTGTGGGTCGATACCGAACGCGACTGTTTCCAGCACAAACTGAGGGGGATCGTTCCCCTTCATATGCGTTTTCTTCCGATCGGACACTACATGTATTGCAGTACGTGATGCTCCGTAGTGGG',\n",
              " 'UUGUUCGUUGUUGCGCGAGACUCGGUUAUUGCCUCAGCGUGUGCAUGUUCUAGCCCCCAUAAAGACCUCACGUGUAAACCGUCGUGCUAAUUAGCGGGAAGGUUCAUAGCCAAGCAGUUUGUACCGCAUCGAGGCUGCAGUGGACCGUGAUAAUUACUUUUUACUGUCGUUCAAAUUUCUUGAGGAUAAGAACCUGGCGGGUCAUAGAUUGUUUAGAUCUUUACUGUGGAGAUCCCUACUGUUACGACCAGAUGCCUCUCCUAUGUACACGCCAUAAGGAAGCGGAGGUCGGAACACUGAGUCCGUACAACGAUCGCGUUCGCUGUGAUACUUAACAUAUCGUCACCUGGCAGAACCUAAAUAGGGGGUCUGUUGUCUAGCGUACGAUCCGAUGGUGUAGAUGUCAUCAGUGACAAGGAAGACAACUUCAGAUGCGUAAUGCUACAUUUGUUUGCUUCCUUGAGCCGAUCUUCGGUCAAGCUGCAUGGGACAUCCCCUGCAUUGGUAACGUCAACUUUGCGGUAUAAAGACCCUACGUUGAUACGUGUGGUUAGUUGGAGGUAAAGCAUCAUAAGUCAGCCUUUGCUUCCCUUUUAUGUGCAUGAGGGAGCUUAAGGAGCUGUCCCUCGGGUUAGAGUGAGACCAGCGGCGCGUUGAUAAAUCCAUCCUCCCCGCCUUGAGAACAUGGUUAAUUUCAAAAGCCACUUUGACCCUUCGGGUAUAUAAGGAAGAACAGCAUGCAACUUGUGCUAUGAGGCGUACAGUGUUCAUAUGCCGUCCCUGUGGGUCGAUACCGAACGCGACUGUUUCCAGCACAAACUGAGGGGGAUCGUUCCCCUUCAUAUGCGUUUUCUUCCGAUCGGACACUACAUGUAUUGCAGUACGUGAUGCUCCGUAGUGGG')"
            ]
          },
          "metadata": {
            "tags": []
          },
          "execution_count": 185
        }
      ]
    },
    {
      "cell_type": "markdown",
      "metadata": {
        "id": "yQffflgF9TGt"
      },
      "source": [
        "#Complementing a Strand of DNA"
      ]
    },
    {
      "cell_type": "code",
      "metadata": {
        "colab": {
          "base_uri": "https://localhost:8080/"
        },
        "id": "YbGCJPyI9VFL",
        "outputId": "836907a0-2abf-4423-b576-902921f368ea"
      },
      "source": [
        "file = open('./rosalind_revc.txt', 'r')\r\n",
        "dna_primary = file.readline()\r\n",
        "file.close()\r\n",
        "\r\n",
        "dna_primary = dna_primary.replace(\"\\n\", \"\")\r\n",
        "\r\n",
        "dna_compl = ''\r\n",
        "\r\n",
        "for i in dna_primary:\r\n",
        "  if i == 'A':\r\n",
        "    dna_compl += 'T'\r\n",
        "  elif i == 'T':\r\n",
        "      dna_compl += 'A'\r\n",
        "  elif i == 'C':\r\n",
        "    dna_compl += 'G'\r\n",
        "  else:\r\n",
        "    dna_compl += 'C'\r\n",
        "\r\n",
        "print(dna_compl[::-1])"
      ],
      "execution_count": 190,
      "outputs": [
        {
          "output_type": "stream",
          "text": [
            "TTGGCAAGACCATAGCGCGTCCGCCACAGGCATTACGCCCGTTTAATAGGTGCAGATGTCCATGCACGGCATATTCCATATCCTTCCCGCGCCTGCATTGCATCCCCGTGTCTCCCCAGTAAGTCGAGGGTCACCTATTCCCTACGTTCGACGGAGCCGTCGTGTCGCAGGGCTCTCGACCCCAACACCAACTTACTACTTGACTGCGATTGAGCTCAGAAGATGATGGTACAACATGTTCCGAGGCTCGCGGTTTCATCACATTACCCGTGACGTTATTTGCTAGGTATCTCCGGGTAACTGCAGAAGCGACCCAAATCGGTGATTTCGGGCCTACTTAACTGGAGAATCCATCTCTTGCACGCGCCCGAGAACTTAGACATCGTGATCAAAACTTTGGCGGAAGCCCGCCAGACTCAAGGTCCACTTGACGGCCTAACGACACGATTATCCGGCGCGCATCGAAACAACATAAAGTGGGATCTGACAGCGATCACAACACCTTCTAGAACTCCGTGCGAGGCTTAAACCCATGTTAGAGTGATGAGTCGCCGCTGAAGTCAGCTCATATTTATGAAGCCCTAAGTTCGTCGAACGCCCCGTCCCGTTCCATACACTCATAGGGAAAACTGGAGCGGAACGAGTCTGTATCACCGCTATAAACATCGCCATTTGTCCACATGACGGTCCGATACGATAAGATATAGGGAACACCGCTCCTTGCCACTAGCTGCTGATAGACTACTGTGCCCCGTTCTATCACGTCGCTTGCGGCAGCGTCTAATATACGATAGGGTGGTAGACCGACTCTACGAATTTTTGCAACGCAAAGATCTGTGAATTCCTATGGCGCGTCACCTTTACTAGCATTCAAAGTCACCCCGTTACGTGCAGCAGGAATACAGGACAATTAGGCTGGTGTTTCCAGATTTCTTTACTTCGGTACATGTGATGTACAGTTCACAAACACGGGGAACTCTAAGGA\n"
          ],
          "name": "stdout"
        }
      ]
    },
    {
      "cell_type": "markdown",
      "metadata": {
        "id": "Fz4Mm8LfQAMJ"
      },
      "source": [
        "# Rabbits and Recurrence Relations"
      ]
    },
    {
      "cell_type": "code",
      "metadata": {
        "id": "pfSCr1AiQCP6"
      },
      "source": [
        "def fibs(n, k):\r\n",
        "  fibs = [0 for i in range(n)]\r\n",
        "  fibs[0] = 1\r\n",
        "  fibs[1] = 1\r\n",
        "  for i in range(2, n):\r\n",
        "    fibs[i] = fibs[i-2] * k + fibs[i-1]\r\n",
        "\r\n",
        "  return fibs[n-1]  "
      ],
      "execution_count": 191,
      "outputs": []
    },
    {
      "cell_type": "code",
      "metadata": {
        "id": "TAygwUzyQMwi"
      },
      "source": [
        "file = open('./rosalind_fib.txt', 'r')\r\n",
        "s = file.readline()\r\n",
        "file.close()\r\n",
        "\r\n",
        "\r\n",
        "n, k = s.split(' ')\r\n",
        "\r\n",
        "n, k = int(n), int(k)"
      ],
      "execution_count": 197,
      "outputs": []
    },
    {
      "cell_type": "code",
      "metadata": {
        "colab": {
          "base_uri": "https://localhost:8080/"
        },
        "id": "ybiVCJcPQWeK",
        "outputId": "4849b000-a366-46a7-f2fd-1000efbcaa70"
      },
      "source": [
        "fibs(n, k)"
      ],
      "execution_count": 198,
      "outputs": [
        {
          "output_type": "execute_result",
          "data": {
            "text/plain": [
              "123280631024265"
            ]
          },
          "metadata": {
            "tags": []
          },
          "execution_count": 198
        }
      ]
    },
    {
      "cell_type": "markdown",
      "metadata": {
        "id": "SoHMdWe5So6z"
      },
      "source": [
        "# Mortal Fibonacci Rabbits"
      ]
    },
    {
      "cell_type": "code",
      "metadata": {
        "id": "ABt3Ao37Sp6L"
      },
      "source": [
        "def rabs(n, m):\r\n",
        "  rabs = [1, 1]\r\n",
        "  months = 2\r\n",
        "  while months < n:\r\n",
        "    if months < m:\r\n",
        "      rabs.append(rabs[-2] + rabs[-1])                              \r\n",
        "    elif months == m:                                       \r\n",
        "        rabs.append(rabs[-2] + rabs[-1] - 1)                          \r\n",
        "    else:                                                                      \r\n",
        "        rabs.append(rabs[-2] + rabs[-1] - rabs[-(                  \r\n",
        "            m + 1)])                                                           \r\n",
        "    months += 1\r\n",
        "  return(rabs[-1])   "
      ],
      "execution_count": 200,
      "outputs": []
    },
    {
      "cell_type": "code",
      "metadata": {
        "id": "2--HYZ2ESvLR"
      },
      "source": [
        "file = open('./rosalind_fibd.txt', 'r')\r\n",
        "s = file.readline()\r\n",
        "file.close()\r\n",
        "\r\n",
        "\r\n",
        "n, m = s.split(' ')\r\n",
        "\r\n",
        "n, m = int(n), int(m)"
      ],
      "execution_count": 201,
      "outputs": []
    },
    {
      "cell_type": "code",
      "metadata": {
        "colab": {
          "base_uri": "https://localhost:8080/"
        },
        "id": "62yaIaRXS0wp",
        "outputId": "2196ea3c-ecb9-44e6-d1bf-9f96bc938e66"
      },
      "source": [
        "rabs(n, m)"
      ],
      "execution_count": 202,
      "outputs": [
        {
          "output_type": "execute_result",
          "data": {
            "text/plain": [
              "348102173637223073109"
            ]
          },
          "metadata": {
            "tags": []
          },
          "execution_count": 202
        }
      ]
    },
    {
      "cell_type": "markdown",
      "metadata": {
        "id": "ZkdpSnksTdEy"
      },
      "source": [
        "# Counting Point Mutations"
      ]
    },
    {
      "cell_type": "code",
      "metadata": {
        "id": "lolbxpMHTmss"
      },
      "source": [
        "def hamming_dist(s1, s2):\r\n",
        "  d = 0\r\n",
        "  for i,j in zip(s1,s2):\r\n",
        "    if i != j:\r\n",
        "      d += 1 \r\n",
        "  return d"
      ],
      "execution_count": 204,
      "outputs": []
    },
    {
      "cell_type": "code",
      "metadata": {
        "id": "P-ghxi3fTsFv"
      },
      "source": [
        "file = open('./rosalind_hamm.txt', 'r')\r\n",
        "s1 = file.readline()\r\n",
        "s2 = file.readline()\r\n",
        "file.close()\r\n",
        "\r\n",
        "s1 = s1.replace(\"\\n\", \"\")\r\n",
        "s2 = s2.replace(\"\\n\", \"\")"
      ],
      "execution_count": 205,
      "outputs": []
    },
    {
      "cell_type": "code",
      "metadata": {
        "colab": {
          "base_uri": "https://localhost:8080/"
        },
        "id": "iiyAn3YYT6sn",
        "outputId": "5bec6196-322f-4190-e2ce-1a8ba12fdbd3"
      },
      "source": [
        "hamming_dist(s1, s2)"
      ],
      "execution_count": 206,
      "outputs": [
        {
          "output_type": "execute_result",
          "data": {
            "text/plain": [
              "466"
            ]
          },
          "metadata": {
            "tags": []
          },
          "execution_count": 206
        }
      ]
    },
    {
      "cell_type": "markdown",
      "metadata": {
        "id": "RVKgK5MrUEQE"
      },
      "source": [
        "# Enumerating Gene Orders"
      ]
    },
    {
      "cell_type": "code",
      "metadata": {
        "id": "TOlYuh2IXiAq"
      },
      "source": [
        "from contextlib import redirect_stdout "
      ],
      "execution_count": 208,
      "outputs": []
    },
    {
      "cell_type": "code",
      "metadata": {
        "id": "KIIbzxjmZHq3"
      },
      "source": [
        "file = open('./rosalind_perm.txt', 'r')\r\n",
        "n = file.readline()\r\n",
        "file.close()\r\n",
        "\r\n",
        "n = int(n)"
      ],
      "execution_count": 210,
      "outputs": []
    },
    {
      "cell_type": "code",
      "metadata": {
        "id": "R1SmMsVlaDWT"
      },
      "source": [
        "from math import factorial"
      ],
      "execution_count": 211,
      "outputs": []
    },
    {
      "cell_type": "code",
      "metadata": {
        "id": "Gar62xCMUMO6"
      },
      "source": [
        "def permutations(n, a=[]):\r\n",
        "    if len(a) == n:\r\n",
        "        print(*a)\r\n",
        "        return\r\n",
        "    else:\r\n",
        "        for x in range(1, n+1):\r\n",
        "            if x not in a:\r\n",
        "                a.append(x)\r\n",
        "                permutations(n, a)\r\n",
        "                a.pop()          "
      ],
      "execution_count": 212,
      "outputs": []
    },
    {
      "cell_type": "code",
      "metadata": {
        "id": "r8ym-ZC-UO4a"
      },
      "source": [
        "with open('output_perm.txt', 'w') as f: \r\n",
        "    with redirect_stdout(f): \r\n",
        "        print(factorial(n))\r\n",
        "        permutations(n)"
      ],
      "execution_count": 213,
      "outputs": []
    },
    {
      "cell_type": "markdown",
      "metadata": {
        "id": "CtIgKuqxbtfn"
      },
      "source": [
        "# Enumerating k-mers Lexicographically"
      ]
    },
    {
      "cell_type": "code",
      "metadata": {
        "id": "3pBThRPCbvJN"
      },
      "source": [
        "def enumerate_permutations(n, alphabet, word=''):\r\n",
        "    if len(word) == n:\r\n",
        "        print(word)\r\n",
        "        return\r\n",
        "    else:\r\n",
        "        for letter in alphabet:\r\n",
        "            enumerate_permutations(n, alphabet, word+letter)"
      ],
      "execution_count": null,
      "outputs": []
    },
    {
      "cell_type": "code",
      "metadata": {
        "colab": {
          "base_uri": "https://localhost:8080/"
        },
        "id": "VJtm-5xFeZGH",
        "outputId": "3d38cb17-6f42-41bf-ce03-13bca5719d98"
      },
      "source": [
        "file = open('./rosalind_lexf.txt', 'r')\r\n",
        "alphabet = file.readline()\r\n",
        "n = file.readline()\r\n",
        "file.close()\r\n",
        "\r\n",
        "\r\n",
        "alphabet = alphabet.replace(\"\\n\", \"\").replace(' ', '')\r\n",
        "n = int(n)\r\n",
        "alphabet, n"
      ],
      "execution_count": null,
      "outputs": [
        {
          "output_type": "execute_result",
          "data": {
            "text/plain": [
              "('ABCDEFGHI', 3)"
            ]
          },
          "metadata": {
            "tags": []
          },
          "execution_count": 137
        }
      ]
    },
    {
      "cell_type": "code",
      "metadata": {
        "id": "uu0y4Nw2euRv"
      },
      "source": [
        "with open('output_lexf.txt', 'w') as f: \r\n",
        "    with redirect_stdout(f): \r\n",
        "        enumerate_permutations(n, alphabet)"
      ],
      "execution_count": null,
      "outputs": []
    },
    {
      "cell_type": "markdown",
      "metadata": {
        "id": "dTiBvGz4hcyT"
      },
      "source": [
        "# Ordering Strings of Varying Length Lexicographically"
      ]
    },
    {
      "cell_type": "code",
      "metadata": {
        "id": "BckkeYyMhiL2"
      },
      "source": [
        "dictionary = []\r\n",
        "\r\n",
        "def ordering_strings(n, alphabet, dictionary, word = ''):\r\n",
        "    \r\n",
        "    if len(word) > n:\r\n",
        "        return\r\n",
        "\r\n",
        "    if len(word) > 0:\r\n",
        "        dictionary.append(word)\r\n",
        "\r\n",
        "    for letter in alphabet:\r\n",
        "        ordering_strings(n, alphabet, dictionary, word+letter)\r\n",
        "\r\n",
        "    \r\n",
        "    return dictionary"
      ],
      "execution_count": null,
      "outputs": []
    },
    {
      "cell_type": "code",
      "metadata": {
        "colab": {
          "base_uri": "https://localhost:8080/"
        },
        "id": "eXZfSvEgi1gg",
        "outputId": "ae43ac02-3730-47ba-98a1-37fa522c27da"
      },
      "source": [
        "file = open('./rosalind_lexv.txt', 'r')\r\n",
        "alphabet = file.readline()\r\n",
        "n = file.readline()\r\n",
        "file.close()\r\n",
        "\r\n",
        "\r\n",
        "alphabet = alphabet.replace(\"\\n\", \"\").replace(' ', '')\r\n",
        "n = int(n)\r\n",
        "alphabet, n"
      ],
      "execution_count": null,
      "outputs": [
        {
          "output_type": "execute_result",
          "data": {
            "text/plain": [
              "('KEVRCIYUFZ', 4)"
            ]
          },
          "metadata": {
            "tags": []
          },
          "execution_count": 143
        }
      ]
    },
    {
      "cell_type": "code",
      "metadata": {
        "id": "MHTVqQqwjYQa"
      },
      "source": [
        "d = ordering_strings(n, alphabet, dictionary)\r\n",
        "\r\n",
        "with open('output_lexv.txt', 'w') as f: \r\n",
        "    with redirect_stdout(f):\r\n",
        "        for i in d:\r\n",
        "            print(i)"
      ],
      "execution_count": null,
      "outputs": []
    },
    {
      "cell_type": "markdown",
      "metadata": {
        "id": "Ei3IfzR5JYMF"
      },
      "source": [
        "# Translating RNA into Protein"
      ]
    },
    {
      "cell_type": "code",
      "metadata": {
        "id": "t5-Fl9rzJjo8"
      },
      "source": [
        "f = open('rosalind_prot.txt', 'r')\r\n",
        "rna_to_protein = f.readline()\r\n",
        "f.close()\r\n",
        "\r\n",
        "rna_to_protein = rna_to_protein.replace(\"\\n\", \"\")"
      ],
      "execution_count": null,
      "outputs": []
    },
    {
      "cell_type": "code",
      "metadata": {
        "id": "CI-6vG0UJrOp"
      },
      "source": [
        "def translate(rna_to_protein):\r\n",
        "\r\n",
        "    d = {\r\n",
        "    'UUU': 'F'   , 'CUU': 'L' , 'AUU': 'I', 'GUU': 'V',  \r\n",
        "    'UUC': 'F'   , 'CUC': 'L' , 'AUC': 'I', 'GUC': 'V',    \r\n",
        "    'UUA': 'L'   , 'CUA': 'L' , 'AUA': 'I', 'GUA': 'V',    \r\n",
        "    'UUG': 'L'   , 'CUG': 'L' , 'AUG': 'M', 'GUG': 'V',   \r\n",
        "    'UCU': 'S'   , 'CCU': 'P' , 'ACU': 'T', 'GCU': 'A',  \r\n",
        "    'UCC': 'S'   , 'CCC': 'P' , 'ACC': 'T', 'GCC': 'A',    \r\n",
        "    'UCA': 'S'   , 'CCA': 'P' , 'ACA': 'T', 'GCA': 'A', \r\n",
        "    'UCG': 'S'   , 'CCG': 'P' , 'ACG': 'T', 'GCG': 'A',   \r\n",
        "    'UAU': 'Y'   , 'CAU': 'H' , 'AAU': 'N', 'GAU': 'D',   \r\n",
        "    'UAC': 'Y'   , 'CAC': 'H' , 'AAC': 'N', 'GAC': 'D',   \r\n",
        "    'UAA': 'Stop', 'CAA': 'Q' , 'AAA': 'K', 'GAA': 'E',   \r\n",
        "    'UAG': 'Stop', 'CAG': 'Q' , 'AAG': 'K', 'GAG': 'E',   \r\n",
        "    'UGU': 'C'   , 'CGU': 'R' , 'AGU': 'S', 'GGU': 'G',  \r\n",
        "    'UGC': 'C'   , 'CGC': 'R' , 'AGC': 'S', 'GGC': 'G', \r\n",
        "    'UGA': 'Stop', 'CGA': 'R' , 'AGA': 'R', 'GGA': 'G',   \r\n",
        "    'UGG': 'W'   , 'CGG': 'R' , 'AGG': 'R', 'GGG': 'G'    \r\n",
        "    }\r\n",
        "\r\n",
        "    protein = ''\r\n",
        "    \r\n",
        "    for i in range(0, len(rna_to_protein), 3):\r\n",
        "        codon = rna_to_protein[i:i+3]\r\n",
        "        if d[codon] != 'Stop':\r\n",
        "            protein += d[codon]\r\n",
        "\r\n",
        "\r\n",
        "    return protein"
      ],
      "execution_count": null,
      "outputs": []
    },
    {
      "cell_type": "code",
      "metadata": {
        "id": "02yY-wPkJt9s"
      },
      "source": [
        "f = open('output_prot.txt', 'w')\r\n",
        "f.write(translate(rna_to_protein))\r\n",
        "f.close()"
      ],
      "execution_count": null,
      "outputs": []
    },
    {
      "cell_type": "markdown",
      "metadata": {
        "id": "OGQHY9BaK2Ql"
      },
      "source": [
        "# Calculating Protein Mass"
      ]
    },
    {
      "cell_type": "code",
      "metadata": {
        "id": "Jn3j5AmzK8I6"
      },
      "source": [
        "f = open('rosalind_prtm.txt', 'r')\r\n",
        "prot_to_mass = f.readline()\r\n",
        "f.close()\r\n",
        "\r\n",
        "prot_to_mass = prot_to_mass.replace(\"\\n\", \"\")"
      ],
      "execution_count": null,
      "outputs": []
    },
    {
      "cell_type": "code",
      "metadata": {
        "id": "f6KFhpRNLp6t"
      },
      "source": [
        "def calc_mass(prot_to_mass):\r\n",
        "    mass_dict = {\r\n",
        "    'A' :  71.03711 ,\r\n",
        "    'C' :  103.00919, \r\n",
        "    'D' :  115.02694, \r\n",
        "    'E' :  129.04259, \r\n",
        "    'F' :  147.06841, \r\n",
        "    'G' :  57.02146,\r\n",
        "    'H' :  137.05891, \r\n",
        "    'I' :  113.08406, \r\n",
        "    'K' :  128.09496, \r\n",
        "    'L' :  113.08406, \r\n",
        "    'M' :  131.04049, \r\n",
        "    'N' :  114.04293, \r\n",
        "    'P' :  97.05276 ,\r\n",
        "    'Q' :  128.05858, \r\n",
        "    'R' :  156.10111, \r\n",
        "    'S' :  87.03203 ,\r\n",
        "    'T' :  101.04768, \r\n",
        "    'V' :  99.06841 ,\r\n",
        "    'W' :  186.07931, \r\n",
        "    'Y' :  163.06333\r\n",
        "     }   \r\n",
        "\r\n",
        "    mass = 0\r\n",
        "\r\n",
        "    for i in prot_to_mass:\r\n",
        "        mass += mass_dict[i]\r\n",
        "\r\n",
        "    return str(mass)"
      ],
      "execution_count": null,
      "outputs": []
    },
    {
      "cell_type": "code",
      "metadata": {
        "id": "kkE8Uv05M79F"
      },
      "source": [
        "f = open('output_prtm.txt', 'w')\r\n",
        "f.write(calc_mass(prot_to_mass))\r\n",
        "f.close()"
      ],
      "execution_count": null,
      "outputs": []
    },
    {
      "cell_type": "markdown",
      "metadata": {
        "id": "defFtHU0TrXH"
      },
      "source": [
        "# Finding a Motif in DNA"
      ]
    },
    {
      "cell_type": "code",
      "metadata": {
        "id": "_jhKZL1SWz-o"
      },
      "source": [
        "f = open('rosalind_subs.txt', 'r')\r\n",
        "genome = f.readline()\r\n",
        "pattern = f.readline()\r\n",
        "f.close()\r\n",
        "\r\n",
        "\r\n",
        "genome = genome.replace(\"\\n\", \"\")\r\n",
        "pattern =  pattern.replace(\"\\n\", \"\")"
      ],
      "execution_count": 172,
      "outputs": []
    },
    {
      "cell_type": "code",
      "metadata": {
        "id": "3XqkH6_QUuG6"
      },
      "source": [
        "def PatternMatching(Pattern, Genome):\r\n",
        "\tm, n = len(Pattern), len(Genome)\r\n",
        "\tpositions=[]\r\n",
        "\tfor i in range(0, n-m+1):\r\n",
        "\t\tif Genome[i:i+m]==Pattern:\r\n",
        "\t\t\tpositions.append(i+1)\r\n",
        "   \r\n",
        "\r\n",
        "\treturn positions"
      ],
      "execution_count": 173,
      "outputs": []
    },
    {
      "cell_type": "code",
      "metadata": {
        "id": "PALdr-4xVktF"
      },
      "source": [
        "f = open('output_subs.txt', 'w')\r\n",
        "f.write(' '.join(str(x) for x in PatternMatching(pattern, genome)))\r\n",
        "f.close()"
      ],
      "execution_count": 174,
      "outputs": []
    },
    {
      "cell_type": "markdown",
      "metadata": {
        "id": "gqDpaGgGnhAS"
      },
      "source": [
        "# Mendel's First Law"
      ]
    },
    {
      "cell_type": "code",
      "metadata": {
        "id": "9Mhg-XkMZpnu"
      },
      "source": [
        "f = open('rosalind_iprb.txt', 'r')\r\n",
        "s = f.readline()\r\n",
        "f.close()\r\n",
        "\r\n",
        "l = [int(x) for x in s.split(' ')]\r\n",
        "k, m, n = l[0], l[1], l[2]"
      ],
      "execution_count": 130,
      "outputs": []
    },
    {
      "cell_type": "code",
      "metadata": {
        "id": "wF3LJBP8g-RX"
      },
      "source": [
        "def pr(k,m,n):\r\n",
        "\r\n",
        "    t = k + m + n\r\n",
        "\r\n",
        "    pr = k/t * (k-1)/(t-1) + 2 * k/t * m/(t-1) + 2 * k/t * n/(t-1) + 0.75 * m/t * (m-1)/(t-1) +m/t * n/(t-1) \r\n",
        "\r\n",
        "    return pr"
      ],
      "execution_count": 131,
      "outputs": []
    },
    {
      "cell_type": "code",
      "metadata": {
        "id": "OWWhBXm5acXF"
      },
      "source": [
        "f = open('output_iprb.txt', 'w')\r\n",
        "f.write(str(pr(k, m, n)))\r\n",
        "f.close()"
      ],
      "execution_count": 133,
      "outputs": []
    },
    {
      "cell_type": "markdown",
      "metadata": {
        "id": "U4i8a6aOnt1C"
      },
      "source": [
        "# Calculating Expected Offspring"
      ]
    },
    {
      "cell_type": "code",
      "metadata": {
        "id": "4EUfpB3ca6SQ"
      },
      "source": [
        "f = open('rosalind_iev.txt', 'r')\r\n",
        "s = f.readline()\r\n",
        "f.close()\r\n",
        "\r\n",
        "l = [int(x) for x in s.split(' ')]"
      ],
      "execution_count": 140,
      "outputs": []
    },
    {
      "cell_type": "code",
      "metadata": {
        "id": "lHKBKIJgnqxO"
      },
      "source": [
        "def calc_moments(a):\r\n",
        "  \r\n",
        "  m = 2*a[0] + 2*a[1] + 2*a[2] + 2*3/4 * a[3] + a[4]\r\n",
        "\r\n",
        "  return m"
      ],
      "execution_count": 142,
      "outputs": []
    },
    {
      "cell_type": "code",
      "metadata": {
        "id": "arsBXxybpytj"
      },
      "source": [
        "f = open('output_iev.txt', 'w')\r\n",
        "f.write(str(calc_moments(l)))\r\n",
        "f.close()"
      ],
      "execution_count": 143,
      "outputs": []
    },
    {
      "cell_type": "markdown",
      "metadata": {
        "id": "6vVKUzvGBMwe"
      },
      "source": [
        "# Consensus and Profile"
      ]
    },
    {
      "cell_type": "code",
      "metadata": {
        "colab": {
          "base_uri": "https://localhost:8080/"
        },
        "id": "gy25mONqBSAk",
        "outputId": "1f0f2626-7e95-4b31-ef09-146a1ca3c192"
      },
      "source": [
        "!pip install biopython\r\n",
        "from Bio import SeqIO"
      ],
      "execution_count": null,
      "outputs": [
        {
          "output_type": "stream",
          "text": [
            "Collecting biopython\n",
            "\u001b[?25l  Downloading https://files.pythonhosted.org/packages/3a/cd/0098eaff841850c01da928c7f509b72fd3e1f51d77b772e24de9e2312471/biopython-1.78-cp37-cp37m-manylinux1_x86_64.whl (2.3MB)\n",
            "\u001b[K     |████████████████████████████████| 2.3MB 3.7MB/s \n",
            "\u001b[?25hRequirement already satisfied: numpy in /usr/local/lib/python3.7/dist-packages (from biopython) (1.19.5)\n",
            "Installing collected packages: biopython\n",
            "Successfully installed biopython-1.78\n"
          ],
          "name": "stdout"
        }
      ]
    },
    {
      "cell_type": "code",
      "metadata": {
        "colab": {
          "base_uri": "https://localhost:8080/"
        },
        "id": "yPfDFJGMDBkR",
        "outputId": "4e5146a4-0433-40ef-cb8f-ea5cefba2afc"
      },
      "source": [
        "from Bio import SeqIO\r\n",
        "\r\n",
        "data = dict()\r\n",
        "\r\n",
        "with open(\"rosalind_cons.txt\", \"rU\") as handle:\r\n",
        "    for record in SeqIO.parse(handle, \"fasta\"):\r\n",
        "        data[record.id] = record.seq"
      ],
      "execution_count": null,
      "outputs": [
        {
          "output_type": "stream",
          "text": [
            "/usr/local/lib/python3.7/dist-packages/ipykernel_launcher.py:5: DeprecationWarning: 'U' mode is deprecated\n",
            "  \"\"\"\n"
          ],
          "name": "stderr"
        }
      ]
    },
    {
      "cell_type": "code",
      "metadata": {
        "id": "BXaGUFcFGZy8"
      },
      "source": [
        "import numpy as np"
      ],
      "execution_count": null,
      "outputs": []
    },
    {
      "cell_type": "code",
      "metadata": {
        "id": "IakGy-XYHhcP"
      },
      "source": [
        "n = len(data)\r\n",
        "m = len(data[record.id])\r\n",
        "\r\n",
        "matrix = np.zeros((4, m))"
      ],
      "execution_count": null,
      "outputs": []
    },
    {
      "cell_type": "code",
      "metadata": {
        "id": "QNUrzf63JUUC"
      },
      "source": [
        "for key in data:\r\n",
        "    s = data[key]\r\n",
        "    for i in range(m):\r\n",
        "        if s[i] == 'A':\r\n",
        "            matrix[0, i] += 1\r\n",
        "        elif s[i] == 'C':\r\n",
        "            matrix[1, i] += 1\r\n",
        "        elif s[i] == 'G':\r\n",
        "            matrix[2, i] += 1\r\n",
        "        else:\r\n",
        "            matrix[3, i] += 1"
      ],
      "execution_count": null,
      "outputs": []
    },
    {
      "cell_type": "code",
      "metadata": {
        "colab": {
          "base_uri": "https://localhost:8080/"
        },
        "id": "hacBaZQcKzA-",
        "outputId": "b8aecb8c-d8be-4282-ffa1-63ecb2674eb4"
      },
      "source": [
        "matrix"
      ],
      "execution_count": null,
      "outputs": [
        {
          "output_type": "execute_result",
          "data": {
            "text/plain": [
              "array([[10.,  2.,  2., ...,  2.,  2.,  8.],\n",
              "       [ 4.,  6.,  4., ...,  8.,  6.,  8.],\n",
              "       [ 2.,  2., 10., ...,  6.,  8.,  2.],\n",
              "       [ 4., 10.,  4., ...,  4.,  4.,  2.]])"
            ]
          },
          "metadata": {
            "tags": []
          },
          "execution_count": 121
        }
      ]
    },
    {
      "cell_type": "code",
      "metadata": {
        "id": "XvndH9WgLtDD"
      },
      "source": [
        "matrx = matrix.astype(int)"
      ],
      "execution_count": null,
      "outputs": []
    },
    {
      "cell_type": "code",
      "metadata": {
        "id": "d3NEIUxlMfh8"
      },
      "source": [
        "sq_to_bld =  np.argmax(matrx, axis = 0)"
      ],
      "execution_count": null,
      "outputs": []
    },
    {
      "cell_type": "code",
      "metadata": {
        "id": "Gnr9fnrnP0wC"
      },
      "source": [
        "pr = ''\r\n",
        "for i in sq_to_bld:\r\n",
        "    if i == 0:\r\n",
        "        pr += \"A\"\r\n",
        "    elif i == 1:\r\n",
        "        pr += \"C\"\r\n",
        "    elif i == 2:\r\n",
        "        pr += \"G\"\r\n",
        "    else:\r\n",
        "        pr += \"T\""
      ],
      "execution_count": null,
      "outputs": []
    },
    {
      "cell_type": "code",
      "metadata": {
        "colab": {
          "base_uri": "https://localhost:8080/",
          "height": 137
        },
        "id": "-1XMRxoYRpbC",
        "outputId": "930581da-c532-466d-bb6d-2ff4a31260ae"
      },
      "source": [
        "pr"
      ],
      "execution_count": null,
      "outputs": [
        {
          "output_type": "execute_result",
          "data": {
            "application/vnd.google.colaboratory.intrinsic+json": {
              "type": "string"
            },
            "text/plain": [
              "'ATGGCCGGGCTAAGACCTGTCCTACCCCACTTGGAACAATCAAGGTACACCCGGAAAAAATCATAAACGCACACGGCCGGAATAAAGATACGAAGTTAATCAAATGACTCGAGCGTCTACAGATCGACGGACAACAACTATTAGCAGACTCAAGATATACCTAAGGACATCGTGATAACAAGTCGTGACGAAGTGATTTTATTTGCGCATGAGTGCCTATCCGAAGTGTGACACCACCAATACCACCTTATCGGTCACACACCGTACGGTACATGCAAAGGAAAACTTGCGTGAACGAAGCAAATCTAACGAATCAACCCTCAGTTACGCGGTTCTTGCTCAGAACAACTATGATATACCACCGTTGTGGGCGGCACAAACCAATATATGCAAAAGATGTCAATCAATCCATACGCTGCTCCGACAGAAGATGATGAAAGGAGCACGACTCGAGACAGTTACGGGAAGGAAGGTGCGCGCGACCGGCTTGAACACGACAGGACTCGTACGATCCAAAGATTGATGAAAGTACCGAATTACAATTCCAACCGCGTGACTTACCGGCTCTCCGGCGTGGCACGATACGGGAGGAGACCCCTGTGATAATGCGGATACAGGGCTAAGACGCACCATCGCAATGGAGGGTCTGGCGAGGCCCCCGGTTCATTCACATGCAGACCTAAAACTGCAATGAAGCCGGTCTACTGACGACCCGGGCGTGCTAACTGAAAGGGGGCAAGCCCCCCAGGGCGCGATCAACCAGAAAGACGCCGATAACCCCCGAAAAATCCACACCCCCGGAGAAAAACTCGGAGGCGCTGAACCTATGCCTGAAGCCACAAGGTATTAACCGCCAAACATCAATTTAGCAAGGGAAACGCAAACGAAGTTCACAACGAGCAACGACGAAGACCGGATAAACCGACATTACGACACGGTGAAAAGCACTGGGGGTACAAGCCAGTCGTACTGCATGCACTCACGA'"
            ]
          },
          "metadata": {
            "tags": []
          },
          "execution_count": 125
        }
      ]
    }
  ]
}